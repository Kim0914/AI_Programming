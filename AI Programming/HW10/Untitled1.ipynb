{
 "cells": [
  {
   "cell_type": "code",
   "execution_count": 3,
   "metadata": {},
   "outputs": [
    {
     "data": {
      "text/plain": [
       "['6',\n",
       " 'I + * 2 - a 1 * 3 b E',\n",
       " 'a 7 b 8 E',\n",
       " 'I * / 2 - 3 b / 9 - 7 3 E',\n",
       " 'b 7 E',\n",
       " 'P 2 a 1 - * 3 b * / E',\n",
       " 'b 2 a -1 E',\n",
       " 'P c 3 * 4 - a 5 * * E',\n",
       " 'c 2 a 4 E',\n",
       " 'I a E',\n",
       " 'a 5 E',\n",
       " 'P b E',\n",
       " 'b 8 E']"
      ]
     },
     "execution_count": 3,
     "metadata": {},
     "output_type": "execute_result"
    }
   ],
   "source": [
    "file = 'fix.in'\n",
    "\n",
    "infile = open(file,'r')\n",
    "\n",
    "p = [line.rstrip() for line in infile]\n",
    "\n",
    "p"
   ]
  },
  {
   "cell_type": "code",
   "execution_count": null,
   "metadata": {},
   "outputs": [],
   "source": []
  }
 ],
 "metadata": {
  "kernelspec": {
   "display_name": "Python 3",
   "language": "python",
   "name": "python3"
  },
  "language_info": {
   "codemirror_mode": {
    "name": "ipython",
    "version": 3
   },
   "file_extension": ".py",
   "mimetype": "text/x-python",
   "name": "python",
   "nbconvert_exporter": "python",
   "pygments_lexer": "ipython3",
   "version": "3.7.6"
  }
 },
 "nbformat": 4,
 "nbformat_minor": 4
}

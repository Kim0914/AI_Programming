{
 "cells": [
  {
   "cell_type": "code",
   "execution_count": 3,
   "metadata": {},
   "outputs": [
    {
     "name": "stdout",
     "output_type": "stream",
     "text": [
      "Enter the file name of a TSP: tsp100.txt\n",
      "Number of cities: 100\n",
      "City locations:\n",
      "     (49, 3)    (74, 73)    (65, 36)    (39, 41)    (61, 99)\n",
      "    (69, 44)    (88, 92)    (97, 28)    (53, 64)    (30, 77)\n",
      "    (96, 62)    (61, 45)     (30, 3)    (66, 41)     (18, 9)\n",
      "    (61, 64)    (28, 88)     (2, 72)    (80, 66)    (56, 38)\n",
      "    (51, 16)     (18, 2)    (89, 18)    (67, 66)     (72, 6)\n",
      "    (53, 32)    (29, 25)    (77, 69)    (89, 56)    (68, 88)\n",
      "    (98, 53)    (36, 25)     (16, 0)    (20, 32)   (100, 10)\n",
      "    (49, 49)    (85, 38)    (42, 52)     (3, 85)    (62, 77)\n",
      "    (97, 87)    (75, 54)    (40, 19)    (32, 33)     (59, 1)\n",
      "    (90, 43)    (62, 11)    (77, 14)    (88, 66)    (39, 32)\n",
      "    (34, 69)    (12, 73)    (58, 88)    (34, 19)    (32, 45)\n",
      "    (36, 36)    (84, 47)    (28, 18)    (23, 57)    (14, 52)\n",
      "    (29, 38)     (0, 17)    (87, 96)    (61, 11)    (45, 56)\n",
      "     (2, 60)    (97, 67)    (73, 70)    (49, 94)    (88, 55)\n",
      "    (40, 55)    (23, 27)    (33, 68)    (70, 84)     (20, 0)\n",
      "    (29, 59)    (35, 18)    (31, 77)    (66, 18)    (62, 37)\n",
      "    (55, 30)    (30, 61)    (76, 45)    (7, 100)   (100, 68)\n",
      "    (65, 97)    (25, 10)     (4, 10)    (87, 99)    (57, 87)\n",
      "    (32, 79)    (40, 43)    (56, 49)   (24, 100)    (95, 64)\n",
      "     (9, 95)    (67, 72)    (62, 68)    (100, 1)    (79, 71)\n",
      "\n",
      "Search algorithm: Steepest-Ascent Hill Climbing\n",
      "\n",
      "Best order of visits:\n",
      "   83    9   68   16   90   77   81   58   59   65\n",
      "   17   51   38   95   93    4   85   52   89   97\n",
      "    8   35   15   92   55   43   25   80   78   24\n",
      "   36   22   98    7   45   82   23   96   67    1\n",
      "   29   73   39   27   41   18   99   94   30   10\n",
      "   62    6   88   40   84   66   48   69   56    5\n",
      "   13   47   34    2   11   19   49   26   60    3\n",
      "   79   20   44   46   63    0   12   57   76   53\n",
      "   42   86   21   32   74   71   14   87   61   33\n",
      "   54   31   91   37   72   50   75   70   64   28\n",
      "Minimum tour cost: 1,394\n",
      "\n",
      "Total number of evaluations: 8,476\n"
     ]
    }
   ],
   "source": [
    "from Problem import Tsp\n",
    "\n",
    "def main():\n",
    "    p = Tsp()\n",
    "    p.setVariables()\n",
    "    steepestAscent(p)\n",
    "    p.describe()\n",
    "    displaySetting(p)\n",
    "    p.report()\n",
    "    \n",
    "    \n",
    "def steepestAscent(p):\n",
    "    current = p.randomInit() # 생성된 객체 p를 통해 p.randomInit 함수를 호출한다. # 'current' is a list of values\n",
    "    valueC = p.evaluate(current) # 생성된 객체 p를 통해 p.evaluate 함수를 호출한다.\n",
    "    while True:\n",
    "        neighbors = p.mutants(current) # 생성된 객체 p를 통해 p.mutants 함수를 호출한다.\n",
    "        successor, valueS = bestOf(neighbors, p) \n",
    "        if valueS >= valueC:\n",
    "            break\n",
    "        else:\n",
    "            current = successor\n",
    "            valueC = valueS\n",
    "    p.setSolution(current)\n",
    "    p.setMinimum(valueC)\n",
    "\n",
    "def bestOf(neighbors, p): ###\n",
    "    bestValue = p.evaluate(neighbors[0]) # bestValue를 p.evaluate(neighbors) 값으로 초기화 한다.\n",
    "    best = neighbors[0]                 # best를 neighbors의 첫번째 리스트 값으로 초기화 한다.\n",
    "    for i in range(len(neighbors)):    # neighbors의 길이 만큼 반복하며\n",
    "        if p.evaluate(neighbors[i]) < bestValue:   # i번째 인덱스의 p.evaluate(neighbors) 값이 bestValue보다 작으면\n",
    "            bestValue = p.evaluate(neighbors[i])   # 즉, 더 작은 값이면 bestValue 를 p.evaluate(neighbors[i])로 변경하고\n",
    "            best = neighbors[i]                    # best 를 neighbors[i]로 변경한다.\n",
    "    return best, bestValue\n",
    "\n",
    "def displaySetting(p):\n",
    "    print()\n",
    "    print(\"Search algorithm: Steepest-Ascent Hill Climbing\")\n",
    "\n",
    "main()"
   ]
  },
  {
   "cell_type": "code",
   "execution_count": null,
   "metadata": {},
   "outputs": [],
   "source": []
  }
 ],
 "metadata": {
  "kernelspec": {
   "display_name": "Python 3",
   "language": "python",
   "name": "python3"
  },
  "language_info": {
   "codemirror_mode": {
    "name": "ipython",
    "version": 3
   },
   "file_extension": ".py",
   "mimetype": "text/x-python",
   "name": "python",
   "nbconvert_exporter": "python",
   "pygments_lexer": "ipython3",
   "version": "3.7.6"
  }
 },
 "nbformat": 4,
 "nbformat_minor": 4
}

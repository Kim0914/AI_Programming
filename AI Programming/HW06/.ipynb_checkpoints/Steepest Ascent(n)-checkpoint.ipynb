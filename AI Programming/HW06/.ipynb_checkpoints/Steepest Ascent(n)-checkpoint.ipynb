{
 "cells": [
  {
   "cell_type": "code",
   "execution_count": 1,
   "metadata": {
    "scrolled": false
   },
   "outputs": [
    {
     "name": "stdout",
     "output_type": "stream",
     "text": [
      "Enter the file name of a function: Convex.txt\n",
      "\n",
      "Objective function:\n",
      "(x1 - 2) ** 2 +5 * (x2 - 5) ** 2 + 8 * (x3 + 8) ** 2 + 3 * (x4 + 1) ** 2 + 6 * (x5 - 7) ** 2\n",
      "Search space:\n",
      " x1: (-30.0, 30.0)\n",
      " x2: (-30.0, 30.0)\n",
      " x3: (-30.0, 30.0)\n",
      " x4: (-30.0, 30.0)\n",
      " x5: (-30.0, 30.0)\n",
      "\n",
      "Search algorithm: Steepest-Ascent Hill Climbing\n",
      "\n",
      "Mutation step size: 0.01\n",
      "\n",
      "Solution found:\n",
      "(2.0, 5.0, -8.0, -1.0, 7.0)\n",
      "Minimum value: 0.000\n",
      "\n",
      "Total number of evaluations: 59,825\n"
     ]
    },
    {
     "ename": "NameError",
     "evalue": "name 'S' is not defined",
     "output_type": "error",
     "traceback": [
      "\u001b[1;31m---------------------------------------------------------------------------\u001b[0m",
      "\u001b[1;31mNameError\u001b[0m                                 Traceback (most recent call last)",
      "\u001b[1;32m<ipython-input-1-1e97816c4723>\u001b[0m in \u001b[0;36m<module>\u001b[1;34m\u001b[0m\n\u001b[0;32m     38\u001b[0m     \u001b[0mprint\u001b[0m\u001b[1;33m(\u001b[0m\u001b[1;34m\"Mutation step size:\"\u001b[0m\u001b[1;33m,\u001b[0m \u001b[0mp\u001b[0m\u001b[1;33m.\u001b[0m\u001b[0mgetDelta\u001b[0m\u001b[1;33m(\u001b[0m\u001b[1;33m)\u001b[0m\u001b[1;33m)\u001b[0m\u001b[1;33m\u001b[0m\u001b[1;33m\u001b[0m\u001b[0m\n\u001b[0;32m     39\u001b[0m \u001b[1;33m\u001b[0m\u001b[0m\n\u001b[1;32m---> 40\u001b[1;33m \u001b[0mmain\u001b[0m\u001b[1;33m(\u001b[0m\u001b[1;33m)\u001b[0m\u001b[1;33m\u001b[0m\u001b[1;33m\u001b[0m\u001b[0m\n\u001b[0m",
      "\u001b[1;32m<ipython-input-1-1e97816c4723>\u001b[0m in \u001b[0;36mmain\u001b[1;34m()\u001b[0m\n\u001b[0;32m      8\u001b[0m     \u001b[0mdisplaySetting\u001b[0m\u001b[1;33m(\u001b[0m\u001b[0mp\u001b[0m\u001b[1;33m)\u001b[0m\u001b[1;33m\u001b[0m\u001b[1;33m\u001b[0m\u001b[0m\n\u001b[0;32m      9\u001b[0m     \u001b[0mp\u001b[0m\u001b[1;33m.\u001b[0m\u001b[0mreport\u001b[0m\u001b[1;33m(\u001b[0m\u001b[1;33m)\u001b[0m\u001b[1;33m\u001b[0m\u001b[1;33m\u001b[0m\u001b[0m\n\u001b[1;32m---> 10\u001b[1;33m     \u001b[0mS\u001b[0m\u001b[1;33m\u001b[0m\u001b[1;33m\u001b[0m\u001b[0m\n\u001b[0m\u001b[0;32m     11\u001b[0m \u001b[1;32mdef\u001b[0m \u001b[0msteepestAscent\u001b[0m\u001b[1;33m(\u001b[0m\u001b[0mp\u001b[0m\u001b[1;33m)\u001b[0m\u001b[1;33m:\u001b[0m\u001b[1;33m\u001b[0m\u001b[1;33m\u001b[0m\u001b[0m\n\u001b[0;32m     12\u001b[0m     \u001b[0mcurrent\u001b[0m \u001b[1;33m=\u001b[0m \u001b[0mp\u001b[0m\u001b[1;33m.\u001b[0m\u001b[0mrandomInit\u001b[0m\u001b[1;33m(\u001b[0m\u001b[1;33m)\u001b[0m \u001b[1;31m# 'current' is a list of values\u001b[0m\u001b[1;33m\u001b[0m\u001b[1;33m\u001b[0m\u001b[0m\n",
      "\u001b[1;31mNameError\u001b[0m: name 'S' is not defined"
     ]
    }
   ],
   "source": [
    "from Problem import Numeric\n",
    "\n",
    "def main():\n",
    "    p = Numeric()\n",
    "    p.setVariables()\n",
    "    steepestAscent(p)\n",
    "    p.describe()\n",
    "    displaySetting(p)\n",
    "    p.report()\n",
    "\n",
    "def steepestAscent(p):\n",
    "    current = p.randomInit() # 'current' is a list of values\n",
    "    valueC = p.evaluate(current)\n",
    "    while True:\n",
    "        neighbors = p.mutants(current)\n",
    "        successor, valueS = bestOf(neighbors, p)\n",
    "        if valueS >= valueC:\n",
    "            break\n",
    "        else:\n",
    "            current = successor\n",
    "            valueC = valueS\n",
    "    p.setSolution(current)\n",
    "    p.setMinimum(valueC)\n",
    "\n",
    "def bestOf(neighbors, p): ###\n",
    "    bestValue = p.evaluate(neighbors[0]) # bestValue를 evaluate(neighbors[0],p) 값으로 초기화 한다.\n",
    "    best = neighbors[0]                 # best를 neighbors의 첫번째 리스트 값으로 초기화 한다.\n",
    "    for i in range(len(neighbors)):    # neighbors의 길이 만큼 반복하며\n",
    "        if p.evaluate(neighbors[i]) < bestValue:   # i번째 인덱스의 evaluate(neighbors[i],p) 값이 bestValue보다 작으면\n",
    "            bestValue = p.evaluate(neighbors[i])   # 즉, 더 작은 값이면 bestValue 를 evaluate(neighbors[i],p)로 변경하고\n",
    "            best = neighbors[i]                    # best 를 neighbors[i]로 변경한다.\n",
    "    return best, bestValue\n",
    "\n",
    "def displaySetting(p):\n",
    "    print()\n",
    "    print(\"Search algorithm: Steepest-Ascent Hill Climbing\")\n",
    "    print()\n",
    "    print(\"Mutation step size:\", p.getDelta())\n",
    "    \n",
    "main()"
   ]
  },
  {
   "cell_type": "code",
   "execution_count": null,
   "metadata": {},
   "outputs": [],
   "source": []
  }
 ],
 "metadata": {
  "kernelspec": {
   "display_name": "Python 3",
   "language": "python",
   "name": "python3"
  },
  "language_info": {
   "codemirror_mode": {
    "name": "ipython",
    "version": 3
   },
   "file_extension": ".py",
   "mimetype": "text/x-python",
   "name": "python",
   "nbconvert_exporter": "python",
   "pygments_lexer": "ipython3",
   "version": "3.7.6"
  }
 },
 "nbformat": 4,
 "nbformat_minor": 4
}

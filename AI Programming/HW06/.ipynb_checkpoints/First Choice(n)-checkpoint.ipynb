{
 "cells": [
  {
   "cell_type": "code",
   "execution_count": 1,
   "metadata": {
    "scrolled": true
   },
   "outputs": [
    {
     "name": "stdout",
     "output_type": "stream",
     "text": [
      "Enter the file name of a function: Ackley.txt\n",
      "\n",
      "Objective function:\n",
      "20 + math.e - 20 * math.exp(-(1/5) * math.sqrt((1/5) * (x1 ** 2 + x2 ** 2 + x3 ** 2 + x4 ** 2 + x5 ** 2))) - math.exp((1/5) * (math.cos(2 * math.pi * x1) + math.cos(2 * math.pi * x2) +math.cos(2 * math.pi * x3) +math.cos(2 * math.pi * x4) +math.cos(2 * math.pi * x5)))\n",
      "Search space:\n",
      " x1: (-30.0, 30.0)\n",
      " x2: (-30.0, 30.0)\n",
      " x3: (-30.0, 30.0)\n",
      " x4: (-30.0, 30.0)\n",
      " x5: (-30.0, 30.0)\n",
      "\n",
      "Search algorithm: First-Choice Hill Climbing\n",
      "\n",
      "Mutation step size: 0.01\n",
      "\n",
      "Solution found:\n",
      "(-8, 14, 26, 30, 2)\n",
      "Minimum value: 19.569\n",
      "\n",
      "Total number of evaluations: 101\n"
     ]
    }
   ],
   "source": [
    "from Problem import Numeric\n",
    "\n",
    "\n",
    "def main():\n",
    "    p = Numeric()\n",
    "    p.setVariables()\n",
    "    firstChoice(p)\n",
    "    p.describe()\n",
    "    displaySetting(p)\n",
    "    p.report()\n",
    "    \n",
    "    \n",
    "    \n",
    "def firstChoice(p):\n",
    "    current = p.randomInit()   # 'current' is a list of values\n",
    "    valueC = p.evaluate(current)\n",
    "    i = 0\n",
    "    while i < p.getLimit():\n",
    "        successor = p.randomMutant(current)\n",
    "        valueS = p.evaluate(successor)\n",
    "        if valueS < valueC:\n",
    "            current = successor\n",
    "            valueC = valueS\n",
    "            i = 0              # Reset stuck counter\n",
    "        else:\n",
    "            i += 1\n",
    "    p.setSolution(current)\n",
    "    p.setMinimum(valueC)\n",
    "    \n",
    "def displaySetting(p):\n",
    "    print()\n",
    "    print(\"Search algorithm: First-Choice Hill Climbing\")\n",
    "    print()\n",
    "    print(\"Mutation step size:\", p.getDelta())\n",
    "\n",
    "main()"
   ]
  },
  {
   "cell_type": "code",
   "execution_count": null,
   "metadata": {},
   "outputs": [],
   "source": []
  }
 ],
 "metadata": {
  "kernelspec": {
   "display_name": "Python 3",
   "language": "python",
   "name": "python3"
  },
  "language_info": {
   "codemirror_mode": {
    "name": "ipython",
    "version": 3
   },
   "file_extension": ".py",
   "mimetype": "text/x-python",
   "name": "python",
   "nbconvert_exporter": "python",
   "pygments_lexer": "ipython3",
   "version": "3.7.6"
  }
 },
 "nbformat": 4,
 "nbformat_minor": 4
}

{
 "cells": [
  {
   "cell_type": "code",
   "execution_count": 3,
   "metadata": {
    "scrolled": false
   },
   "outputs": [
    {
     "name": "stdout",
     "output_type": "stream",
     "text": [
      "Enter the file name of a TSP: tsp100.txt\n",
      "Number of cities: 100\n",
      "City locations:\n",
      "     (49, 3)    (74, 73)    (65, 36)    (39, 41)    (61, 99)\n",
      "    (69, 44)    (88, 92)    (97, 28)    (53, 64)    (30, 77)\n",
      "    (96, 62)    (61, 45)     (30, 3)    (66, 41)     (18, 9)\n",
      "    (61, 64)    (28, 88)     (2, 72)    (80, 66)    (56, 38)\n",
      "    (51, 16)     (18, 2)    (89, 18)    (67, 66)     (72, 6)\n",
      "    (53, 32)    (29, 25)    (77, 69)    (89, 56)    (68, 88)\n",
      "    (98, 53)    (36, 25)     (16, 0)    (20, 32)   (100, 10)\n",
      "    (49, 49)    (85, 38)    (42, 52)     (3, 85)    (62, 77)\n",
      "    (97, 87)    (75, 54)    (40, 19)    (32, 33)     (59, 1)\n",
      "    (90, 43)    (62, 11)    (77, 14)    (88, 66)    (39, 32)\n",
      "    (34, 69)    (12, 73)    (58, 88)    (34, 19)    (32, 45)\n",
      "    (36, 36)    (84, 47)    (28, 18)    (23, 57)    (14, 52)\n",
      "    (29, 38)     (0, 17)    (87, 96)    (61, 11)    (45, 56)\n",
      "     (2, 60)    (97, 67)    (73, 70)    (49, 94)    (88, 55)\n",
      "    (40, 55)    (23, 27)    (33, 68)    (70, 84)     (20, 0)\n",
      "    (29, 59)    (35, 18)    (31, 77)    (66, 18)    (62, 37)\n",
      "    (55, 30)    (30, 61)    (76, 45)    (7, 100)   (100, 68)\n",
      "    (65, 97)    (25, 10)     (4, 10)    (87, 99)    (57, 87)\n",
      "    (32, 79)    (40, 43)    (56, 49)   (24, 100)    (95, 64)\n",
      "     (9, 95)    (67, 72)    (62, 68)    (100, 1)    (79, 71)\n",
      "\n",
      "Search algorithm: First-Choice Hill Climbing\n",
      "\n",
      "\n",
      "Best order of visits:\n",
      "   93   77   89    4   73   85   23   96   52   16\n",
      "   95   38   65   61   87   12   74   21   32   54\n",
      "   71   53   42   70   49   30    7   34   98   36\n",
      "   45   82   80   47   22   24   25   63   46   20\n",
      "   86    0   44   78    2   13   92   19   11   79\n",
      "   97   15   69   28   10   62    6   88   40   84\n",
      "   94    5   41   35   50   64    3   55   31   26\n",
      "   76   14   57   43   60   59   33   58   75   37\n",
      "   91   72   51   90   68   29   39   99   67    1\n",
      "   66   48   18   27    8    9   83   81   17   56\n",
      "Minimum tour cost: 1,783\n",
      "\n",
      "Total number of evaluations: 1,256\n"
     ]
    }
   ],
   "source": [
    "from Problem import Tsp\n",
    "\n",
    "\n",
    "def main():\n",
    "    p = Tsp()\n",
    "    p.setVariables()\n",
    "    firstChoice(p)\n",
    "    p.describe()\n",
    "    displaySetting(p)\n",
    "    p.report()\n",
    "    \n",
    "def firstChoice(p):\n",
    "    current = p.randomInit()        #생성된 객체 p를 통하여 randomInit 함수를 호출한다. # 'current' is a list of values\n",
    "    valueC = p.evaluate(current)      #생성된 객체 p를 통하여 evalutae 함수를 호출한다.\n",
    "    i = 0\n",
    "    while i < p.getLimit():        #생성된 객체 p를 통하여 getLimit 함수를 호출한다.\n",
    "        successor = p.randomMutant(current) #생성된 객체 p를 통하여 randomMutant 함수를 호출한다.\n",
    "        valueS = p.evaluate(successor)      #생성된 객체 p를 통하여 evaluate 함수를 호출한다.\n",
    "        if valueS < valueC:\n",
    "            current = successor\n",
    "            valueC = valueS\n",
    "            i = 0              # Reset stuck counter\n",
    "        else:\n",
    "            i += 1\n",
    "    p.setSolution(current)   # 생성된 객체 p를 통해 setSolution 함수를 호출한다.\n",
    "    p.setMinimum(valueC)     # 생성된 객체 p를 통해 setMinimum 함수를 호출한다.\n",
    "    \n",
    "def displaySetting(p):\n",
    "    print()\n",
    "    print(\"Search algorithm: First-Choice Hill Climbing\")\n",
    "    print()\n",
    "\n",
    "main()\n",
    "    "
   ]
  },
  {
   "cell_type": "code",
   "execution_count": null,
   "metadata": {},
   "outputs": [],
   "source": []
  }
 ],
 "metadata": {
  "kernelspec": {
   "display_name": "Python 3",
   "language": "python",
   "name": "python3"
  },
  "language_info": {
   "codemirror_mode": {
    "name": "ipython",
    "version": 3
   },
   "file_extension": ".py",
   "mimetype": "text/x-python",
   "name": "python",
   "nbconvert_exporter": "python",
   "pygments_lexer": "ipython3",
   "version": "3.7.6"
  }
 },
 "nbformat": 4,
 "nbformat_minor": 4
}

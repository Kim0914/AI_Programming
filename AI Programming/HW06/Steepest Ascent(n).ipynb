{
 "cells": [
  {
   "cell_type": "code",
   "execution_count": 3,
   "metadata": {
    "scrolled": true
   },
   "outputs": [
    {
     "name": "stdout",
     "output_type": "stream",
     "text": [
      "Enter the file name of a function: Griewank.txt\n",
      "\n",
      "Objective function:\n",
      "1 + (x1 ** 2 + x2 ** 2 + x3 ** 2+ x4 ** 2 + x5 ** 2) / 4000 - math.cos(x1) * math.cos(x2 / math.sqrt(2)) * math.cos(x3 / math.sqrt(3)) * math.cos(x4 / math.sqrt(4)) * math.cos(x5 / math.sqrt(5))\n",
      "Search space:\n",
      " x1: (-30.0, 30.0)\n",
      " x2: (-30.0, 30.0)\n",
      " x3: (-30.0, 30.0)\n",
      " x4: (-30.0, 30.0)\n",
      " x5: (-30.0, 30.0)\n",
      "\n",
      "Search algorithm: Steepest-Ascent Hill Climbing\n",
      "\n",
      "Mutation step size: 0.01\n",
      "\n",
      "Solution found:\n",
      "(12.56, 22.19, -10.87, 12.54, -21.02)\n",
      "Minimum value: 0.342\n",
      "\n",
      "Total number of evaluations: 6,143\n"
     ]
    }
   ],
   "source": [
    "from Problem import Numeric\n",
    "\n",
    "def main():\n",
    "    p = Numeric()\n",
    "    p.setVariables()\n",
    "    steepestAscent(p)\n",
    "    p.describe()\n",
    "    displaySetting(p)\n",
    "    p.report()\n",
    "\n",
    "def steepestAscent(p):\n",
    "    current = p.randomInit() # 'current' is a list of values\n",
    "    valueC = p.evaluate(current)\n",
    "    while True:\n",
    "        neighbors = p.mutants(current)\n",
    "        successor, valueS = bestOf(neighbors, p)\n",
    "        if valueS >= valueC:\n",
    "            break\n",
    "        else:\n",
    "            current = successor\n",
    "            valueC = valueS\n",
    "    p.setSolution(current)\n",
    "    p.setMinimum(valueC)\n",
    "\n",
    "def bestOf(neighbors, p): ###\n",
    "    bestValue = p.evaluate(neighbors[0]) # bestValue를 evaluate(neighbors[0],p) 값으로 초기화 한다.\n",
    "    best = neighbors[0]                 # best를 neighbors의 첫번째 리스트 값으로 초기화 한다.\n",
    "    for i in range(len(neighbors)):    # neighbors의 길이 만큼 반복하며\n",
    "        if p.evaluate(neighbors[i]) < bestValue:   # i번째 인덱스의 evaluate(neighbors[i],p) 값이 bestValue보다 작으면\n",
    "            bestValue = p.evaluate(neighbors[i])   # 즉, 더 작은 값이면 bestValue 를 evaluate(neighbors[i],p)로 변경하고\n",
    "            best = neighbors[i]                    # best 를 neighbors[i]로 변경한다.\n",
    "    return best, bestValue\n",
    "\n",
    "def displaySetting(p):\n",
    "    print()\n",
    "    print(\"Search algorithm: Steepest-Ascent Hill Climbing\")\n",
    "    print()\n",
    "    print(\"Mutation step size:\", p.getDelta())\n",
    "    \n",
    "main()"
   ]
  },
  {
   "cell_type": "code",
   "execution_count": null,
   "metadata": {},
   "outputs": [],
   "source": []
  }
 ],
 "metadata": {
  "kernelspec": {
   "display_name": "Python 3",
   "language": "python",
   "name": "python3"
  },
  "language_info": {
   "codemirror_mode": {
    "name": "ipython",
    "version": 3
   },
   "file_extension": ".py",
   "mimetype": "text/x-python",
   "name": "python",
   "nbconvert_exporter": "python",
   "pygments_lexer": "ipython3",
   "version": "3.7.6"
  }
 },
 "nbformat": 4,
 "nbformat_minor": 4
}

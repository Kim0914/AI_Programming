{
 "cells": [
  {
   "cell_type": "code",
   "execution_count": 3,
   "metadata": {
    "scrolled": false
   },
   "outputs": [
    {
     "name": "stdout",
     "output_type": "stream",
     "text": [
      "Enter the file name of a function: Griewank.txt\n",
      "\n",
      "Objective function:\n",
      "1 + (x1 ** 2 + x2 ** 2 + x3 ** 2+ x4 ** 2 + x5 ** 2) / 4000 - math.cos(x1) * math.cos(x2 / math.sqrt(2)) * math.cos(x3 / math.sqrt(3)) * math.cos(x4 / math.sqrt(4)) * math.cos(x5 / math.sqrt(5))\n",
      "Search space:\n",
      " x1: (-30.0, 30.0)\n",
      " x2: (-30.0, 30.0)\n",
      " x3: (-30.0, 30.0)\n",
      " x4: (-30.0, 30.0)\n",
      " x5: (-30.0, 30.0)\n",
      "\n",
      "Search algorithm: Gradient Descent\n",
      "\n",
      "Mutation step size: 0.01\n",
      "\n",
      "Solution found:\n",
      "(-21.98, -13.315, 21.733, -18.812, 21.022)\n",
      "Minimum value: 0.483\n",
      "\n",
      "Total number of evaluations: 88,885\n"
     ]
    }
   ],
   "source": [
    "from Problem import Numeric\n",
    "\n",
    "\n",
    "def main():\n",
    "    p = Numeric()\n",
    "    p.setVariables()\n",
    "    gradientDscent(p)\n",
    "    \n",
    "    p.describe()\n",
    "    displaySetting(p)\n",
    "    p.report()\n",
    "    \n",
    "def gradientDscent(p):\n",
    "    currentP = p.randomInit()   # 생성된 객체 p를 통해 randomInit함수를 호출한다. # 'currentP' is a list of values\n",
    "    valueC = p.evaluate(currentP) # 생성된 객체 p를 통해 evaluate함수를 호출한다.\n",
    "    \n",
    "    i = 0\n",
    "    while i < p.getLimit():\n",
    "        successor = p.takeStep(currentP)  # 생성된 객체 p를 통해 takeStep함수를 호출한다.\n",
    "        valueN = p.evaluate(successor)  # 생성된 객체 p를 통해 evaluate함수를 호출한다.\n",
    "        if p.isLegal(successor):  # 생성된 객체 p를 통해 isLegal함수를 호출하여 successor가 범위 내에 있는지 판단한다.\n",
    "            if valueN < valueC:\n",
    "                currentP = successor\n",
    "                valueC = valueN\n",
    "                i = 0              # Reset stuck counter\n",
    "            else:\n",
    "                i += 1\n",
    "        else:\n",
    "             break\n",
    "    p.setSolution(currentP) # 생성된 객체 p를 통해 setSolution 함수를 호출한다.\n",
    "    p.setMinimum(valueC)   # 생성된 객체 p를 통해 setMinimum 함수를 호출한다.\n",
    "    \n",
    "def displaySetting(p):\n",
    "    print()\n",
    "    print(\"Search algorithm: Gradient Descent\")\n",
    "    print()\n",
    "    print(\"Mutation step size:\", p.getAlpha())  # 생성된 객체 p를 통해 getAlpha 함수를 호출한다.\n",
    "    \n",
    "main()"
   ]
  },
  {
   "cell_type": "code",
   "execution_count": null,
   "metadata": {},
   "outputs": [],
   "source": []
  }
 ],
 "metadata": {
  "kernelspec": {
   "display_name": "Python 3",
   "language": "python",
   "name": "python3"
  },
  "language_info": {
   "codemirror_mode": {
    "name": "ipython",
    "version": 3
   },
   "file_extension": ".py",
   "mimetype": "text/x-python",
   "name": "python",
   "nbconvert_exporter": "python",
   "pygments_lexer": "ipython3",
   "version": "3.7.6"
  }
 },
 "nbformat": 4,
 "nbformat_minor": 4
}

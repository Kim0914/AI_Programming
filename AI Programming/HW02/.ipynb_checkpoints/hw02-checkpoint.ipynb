{
 "cells": [
  {
   "cell_type": "markdown",
   "metadata": {},
   "source": [
    "# Homework #2\n",
    "\n",
    "___\n",
    "\n",
    "> you should complete the answer lists \n",
    "```python\n",
    "ex3_2_16 = []    # Exercise start ex3.2\n",
    "ex3_2_32 = []\n",
    "ex3_3_16 = []\n",
    "ex3_4_82 = []    # Exercise end ex3.4\n",
    "``` \n",
    ">for answer."
   ]
  },
  {
   "cell_type": "code",
   "execution_count": 1,
   "metadata": {},
   "outputs": [
    {
     "name": "stdout",
     "output_type": "stream",
     "text": [
      "Enter your student number(ex 20201234): 201724419\n"
     ]
    }
   ],
   "source": [
    "your_id = input(\"Enter your student number(ex 20201234): \")"
   ]
  },
  {
   "cell_type": "code",
   "execution_count": 2,
   "metadata": {},
   "outputs": [
    {
     "name": "stdout",
     "output_type": "stream",
     "text": [
      "['blank']\n",
      "['blank', 'blank']\n",
      "['blank', 'blank', 'blank', 'blank']\n",
      "['blank']\n"
     ]
    }
   ],
   "source": [
    " INIT  = \"blank\" \n",
    "\n",
    "ex3_2_16 = [INIT]    # problem number: 16\n",
    "ex3_2_32 = [INIT]*2  # problem number: 32\n",
    "ex3_3_16 = [INIT]*4  # problem number: 16\n",
    "ex3_4_82 = [INIT]    # problem number: 82\n",
    "\n",
    "print(ex3_2_16)\n",
    "print(ex3_2_32)\n",
    "print(ex3_3_16)\n",
    "print(ex3_4_82)"
   ]
  },
  {
   "cell_type": "markdown",
   "metadata": {},
   "source": [
    "### Excercise 3.2\n",
    "> For the following exercise, **</u>identify the errors</u>**, **<u>state the type of each error</u>** (syntax, runtime, or logic), and **<u>correct the block of code.</u>**<br>\n",
    "\n",
    ">16.<br>\n",
    "```python\n",
    "number = 6\n",
    "if number > 5 and < 9:\n",
    "    print(\"Yes\")\n",
    "else:\n",
    "    print(\"No\")\n",
    "```"
   ]
  },
  {
   "cell_type": "code",
   "execution_count": 3,
   "metadata": {},
   "outputs": [
    {
     "name": "stdout",
     "output_type": "stream",
     "text": [
      "Yes\n",
      "error type : syntax\n"
     ]
    }
   ],
   "source": [
    "#-------correct code--------\n",
    "\n",
    "number = 6\n",
    "if 5 < number < 9: # value 와 value 사이값을 판별하는 논리식은 value1 < number < value2가 되어야 함으로 Syntax Error 이다. 컴파일 오류.\n",
    "    print(\"Yes\")\n",
    "else:\n",
    "    print(\"No\")\n",
    "    \n",
    "#-------correct code--------\n",
    "\n",
    "# you should choose between of (syntax, runtime or logic)\n",
    "ex3_2_16[0] = input(\"error type : \")"
   ]
  },
  {
   "cell_type": "code",
   "execution_count": 4,
   "metadata": {
    "scrolled": true
   },
   "outputs": [
    {
     "name": "stdout",
     "output_type": "stream",
     "text": [
      "['syntax']\n"
     ]
    }
   ],
   "source": [
    "print(ex3_2_16)"
   ]
  },
  {
   "cell_type": "markdown",
   "metadata": {},
   "source": [
    "> For the following exercise, **write a program to solve** the problem and **<u>display the answer</u>**. A possible output is shown in a last part and responses to input statements appear underlined.<br>\n",
    "\n",
    ">32. Pig Latin<br>\n",
    ">    Write a program that requests a word (in lowercase letters) as input and translates the word into Pig Latin. The rules for translating a word into Pig Latin are as follows:<br>\n",
    ">> (a) If the word begins with a group of consonants, move them to the end of the word and add ***ay***.<br>For instance, ***chip*** becomes ***ipchay***.<br><br>\n",
    ">> (b) If the word begins with a vowel, add way to the end of the word. For instance, else becomes ***elseway***<br>\n",
    ">><pre>------------output--------------\n",
    ">> Enter word to translate : <u>chip</u>\n",
    ">> The word in Pig Latin is ipchay\n",
    ">> --------------------------------\n",
    "\n",
    "> \\*consonant : 자음<br>\n",
    "> \\*vowel     : 모음<br>"
   ]
  },
  {
   "cell_type": "code",
   "execution_count": 5,
   "metadata": {},
   "outputs": [
    {
     "name": "stdout",
     "output_type": "stream",
     "text": [
      "Enter word to translate : chip\n",
      "The word in Pig Latin is ipchay\n"
     ]
    }
   ],
   "source": [
    "word    = input(\"Enter word to translate : \")\n",
    "og_word = word\n",
    "#--------------- your code ---------------\n",
    "vowel = ['a','e','i','o','u']  # 모음을 list로 나열\n",
    "\n",
    "if word[0] in vowel:          # 첫글자가 모음일 경우\n",
    "    word = word + 'way'       #  word 뒤에 'way'를 추가\n",
    "    \n",
    "else:                         # 첫글자가 자음일 경우\n",
    "    for i in range(0,len(word)): # 문자길이만큼 반복하며 자음으로 시작하는 경우 중 모음이 나올 때 까지 반복\n",
    "        if word[i] in vowel:     # 모음이 나온 index를 i에 저장\n",
    "            break\n",
    "    word = word[i:] + word[0:i] + 'ay' # 0번째 index부터 모음이 나온 i 번째 index까지(자음)는 문자 젤 뒤로 옮기고 'ay'를 문자에 추가\n",
    "        \n",
    "print(\"The word in Pig Latin is \" + word)\n",
    "#--------------- your code ---------------\n",
    "ex3_2_32 = [og_word, word]       # you should put string values."
   ]
  },
  {
   "cell_type": "code",
   "execution_count": 6,
   "metadata": {},
   "outputs": [
    {
     "name": "stdout",
     "output_type": "stream",
     "text": [
      "['chip', 'ipchay']\n"
     ]
    }
   ],
   "source": [
    "print(ex3_2_32)"
   ]
  },
  {
   "cell_type": "markdown",
   "metadata": {},
   "source": [
    "### Excercise 3.3\n",
    "> For the following exercise, **write a program to solve the problem** and **<u>display the answer</u>**. A possible output is shown below box and responses to **<u>input</u>** statements appear underlined.<br>\n",
    "\n",
    "> 16. Bouncing Ball<br>\n",
    ">    The coefficient of restitution of a ball, a number between 0 and 1, specifies how much energy is conserved when the ball hits a rigid surface. A coefficient of .9, for instance, means a bouncing ball will rise to 90% of its previous height after each bounce. Write a program to input a coefficient of restitution and an initial height in meters, and report **<u>how many times a ball bounces when dropped from</u>** its initial height **<u>before it rises to a height</u>** of less than 10 centimeters. Also report the total distance traveled by the ball before this point. The coefficients of restitution of a tennis ball, basketball, super ball, and softball are .7, .75, .9, and .3, respectively.<br>\n",
    "\n",
    "><pre>    ---------------output---------------\n",
    "    Enter coefficient of restitution: <u>.7</u>\n",
    "    Enter initial height in meters: <u>8</u>\n",
    "    Number of bounces: 13\n",
    "    Meters traveled: 44.82\n",
    "    ------------------------------------</pre>"
   ]
  },
  {
   "cell_type": "code",
   "execution_count": 20,
   "metadata": {},
   "outputs": [
    {
     "name": "stdout",
     "output_type": "stream",
     "text": [
      "Enter coefficient of restituion: .7\n",
      "Enter initial height in meters: 8\n",
      "Number of bounces: 13\n",
      "Meters traveled:   44.82\n"
     ]
    }
   ],
   "source": [
    "r   = eval(input('Enter coefficient of restituion: '))\n",
    "h_i = eval(input('Enter initial height in meters: '))\n",
    "#----------------- your code --------------------------\n",
    "meters = h_i # 첫번째 시도, 하강만 하는 경우 먼저 초기화\n",
    "bounces = 1  # 첫번째 시도, 하강만 하는 경우 먼저 초기화\n",
    "height = h_i\n",
    "while height>0.1:\n",
    "    height = height * r # 상승 높이는 직전높이의 r배 만큼 상승한다.\n",
    "    if(height>0.1):  # 상승높이가 10cm, 즉 0.1m 보다 큰 경우만\n",
    "        meters = (meters + height*2) # 올라간 높이만큼 내려가기 때문에 height * 2를 적용해 준다.\n",
    "        bounces += 1              # 공을 튀긴 횟수를 계산해 준다.\n",
    "\n",
    "#----------------- your code --------------------------\n",
    "meters = round(meters, 2)\n",
    "print(f'Number of bounces: {bounces}')\n",
    "print('Meters traveled:   {:.2f}'.format(meters))\n",
    "\n",
    "ex3_3_16 = [r, h_i, bounces, meters] "
   ]
  },
  {
   "cell_type": "code",
   "execution_count": 21,
   "metadata": {},
   "outputs": [
    {
     "name": "stdout",
     "output_type": "stream",
     "text": [
      "[0.7, 8, 13, 44.82]\n"
     ]
    }
   ],
   "source": [
    "print(ex3_3_16)"
   ]
  },
  {
   "cell_type": "markdown",
   "metadata": {},
   "source": [
    "### Exercises 3.4\n",
    "> For the following exercise, **write a program to carry out the stated task**. A possible output is shown in a shaded box and responses to input statements appear underlined.<br>\n",
    "\n",
    "> 82. Digit Sum<br>\n",
    ">     Write a program to calculate the **total sum of <u>*the digits in the integers*</u> from 1 to a million.**<br>\n",
    "\n",
    ">> The sum of the digits in the numbers from 1 to one million is 27,000,001."
   ]
  },
  {
   "cell_type": "code",
   "execution_count": 22,
   "metadata": {},
   "outputs": [
    {
     "name": "stdout",
     "output_type": "stream",
     "text": [
      "The sum of the digits in the numbers from 1 to one million is 27000001\n"
     ]
    }
   ],
   "source": [
    "total_sum=0\n",
    "#----------------- your code --------------------------\n",
    "for i in range(1,1000001):\n",
    "    content = str(i) # 1부터 1000000 까지 수를 문자열로 바꾼다.\n",
    "    number = list(content) # 각 자리 숫자들을 list형태로 변환한다.\n",
    "    for j in range(0,len(number)): # 자리수 만큼 반복하며, 각 자리 숫자의 합을 구한다.\n",
    "        total_sum = total_sum + int(number[j]) # 문자열인 number[i]를 int형으로 변환한다.\n",
    "        \n",
    "#total_sum = format(total_sum,',')\n",
    "#----------------- your code --------------------------\n",
    "print('The sum of the digits in the numbers from 1 to one million is {0}'.format(total_sum))\n",
    "ex3_4_82 = [total_sum]     # total_sum should be the int value"
   ]
  },
  {
   "cell_type": "code",
   "execution_count": 23,
   "metadata": {},
   "outputs": [
    {
     "name": "stdout",
     "output_type": "stream",
     "text": [
      "ex3.2-[16] answer = ['syntax']\n",
      "ex3.2-[32] answer = ['chip', 'ipchay']\n",
      "ex3.3-[16] answer = [0.7, 8, 13, 44.82]\n",
      "ex3.4-[82] answer = [27000001]\n"
     ]
    }
   ],
   "source": [
    "print('ex3.2-[16] answer = {}'.format(ex3_2_16))\n",
    "print('ex3.2-[32] answer = {}'.format(ex3_2_32))\n",
    "print('ex3.3-[16] answer = {}'.format(ex3_3_16))\n",
    "print('ex3.4-[82] answer = {}'.format(ex3_4_82))"
   ]
  },
  {
   "cell_type": "code",
   "execution_count": 24,
   "metadata": {},
   "outputs": [],
   "source": [
    "f = open('{}.csv'.format(your_id),'w')\n",
    "\n",
    "for x in ex3_2_16:\n",
    "    f.write(str(x)+',')\n",
    "    \n",
    "for x in ex3_2_32:\n",
    "    f.write(str(x)+',')\n",
    "\n",
    "for x in ex3_3_16:\n",
    "    f.write(str(x)+',')\n",
    "\n",
    "for x in ex3_4_82:\n",
    "    f.write(str(x)+',')\n",
    "\n",
    "f.close()"
   ]
  }
 ],
 "metadata": {
  "kernelspec": {
   "display_name": "Python 3",
   "language": "python",
   "name": "python3"
  },
  "language_info": {
   "codemirror_mode": {
    "name": "ipython",
    "version": 3
   },
   "file_extension": ".py",
   "mimetype": "text/x-python",
   "name": "python",
   "nbconvert_exporter": "python",
   "pygments_lexer": "ipython3",
   "version": "3.7.6"
  }
 },
 "nbformat": 4,
 "nbformat_minor": 2
}

{
 "cells": [
  {
   "cell_type": "code",
   "execution_count": 1,
   "metadata": {},
   "outputs": [
    {
     "name": "stdout",
     "output_type": "stream",
     "text": [
      "Enter a first name to be included: Alibaba\n"
     ]
    }
   ],
   "source": [
    "def name_5_1_46():\n",
    "#--------------- start your code ---------------\n",
    "    file = \"Names.txt\" # 파일명을 가지고 있는 변수 file에 Names.txt를 할당한다.\n",
    "    infile = open(file,'r')  # Name.txt파일을 읽기모드로 준비\n",
    "    listName = [line.rstrip() for line in infile] # listName에 Names.txt파일을 한 줄씩 읽어가며 저장한다.\n",
    "    infile.close() # 파일을 닫는다\n",
    "\n",
    "    setName = set(listName) #list형인 listName을 set함수를 통하여 set으로 정의한다.\n",
    "    in_name = input('Enter a first name to be included: ') # 추가하고 싶은 문자를 키보드로 부터 입력받는다.\n",
    "    if not in_name in setName: # 입력받은 문자가 setName에 없을때, 즉 존재하지 않는 경우\n",
    "        setName.add(in_name)  # set 형을 다루기 위한 함수인 add를 이용하여 입력받은 문자열을 set에 추가한다.\n",
    "        print(in_name + ' is added in Name.txt')\n",
    "    setName = sorted(setName) # set 형인 setName을 sorted함수를 통해 오름차순 정렬 후 list로 형을 변환한다.\n",
    "\n",
    "    outfile = open('Names.txt','w') # Names.txt를 읽기모드로 연다. 모든 내용이 사라지지만 setName에 내용 저장됨.\n",
    "    for i in range(len(setName)): # setName 길이만큼 반복하며\n",
    "        setName[i] = setName[i] + '\\n' # 모든 리스트에 있는 문자열 마지막에 \\n을 추가해준다.\n",
    "    outfile.writelines(setName) # list형태인 setName을 파일에 쓴다.\n",
    "    outfile.close() # 파일을 닫는다\n",
    "    #--------------- end your code -----------------\n",
    "name_5_1_46()"
   ]
  },
  {
   "cell_type": "code",
   "execution_count": 2,
   "metadata": {},
   "outputs": [
    {
     "name": "stdout",
     "output_type": "stream",
     "text": [
      "Enter an integer from 1 to 100: 55\n",
      "Your number is 55.\n"
     ]
    }
   ],
   "source": [
    "def number_6_1_31():\n",
    "#--------------- start your code ---------------\n",
    "    while True:   # 무한루프 반복하며\n",
    "        try:\n",
    "            num = input('Enter an integer from 1 to 100: ') # 키보드로 부터 num을 입력받는다.\n",
    "            num = int(num) # 입력받은 문자열 num을 int형변환. 바꾸는 과정에서 형변환 에러가 발생하면 ValueError\n",
    "            if 1<= num <= 100:  # 주어진 if조건을 만족시키면 \n",
    "                print('Your number is ' + str(num) + '.') # 결과를 출력하고\n",
    "                break;   # 무한루프를 탈출한다.\n",
    "        except ValueError: # 숫자가 아닌 다른 문자열이 입력될 때\n",
    "            print('You did not enter an integer.')\n",
    "        else: # if문 조건에 걸리지 않고 else 구문이 실행될 때, 즉 num이 1보다 작고 100보다 큰 경우\n",
    "            if num < 1 or num > 100:\n",
    "                print('Your number was not betwwen 1 and 100.')            \n",
    "#--------------- end your code -----------------\n",
    "number_6_1_31()"
   ]
  },
  {
   "cell_type": "code",
   "execution_count": 3,
   "metadata": {},
   "outputs": [
    {
     "name": "stdout",
     "output_type": "stream",
     "text": [
      "['J', 'G', 'K']\n"
     ]
    }
   ],
   "source": [
    "def alphabet_6_2_9():\n",
    "#--------------- start your code ---------------\n",
    "    import random # 무작위의 값을 추출하기 위해 random을 import한다.\n",
    "    alpha = ['A','B','C','D','E','F','G','H','I','J','K','L','M','N','O','P','Q','R','S','T','U','V','W','X','Y','Z'] \n",
    "    print(random.sample(alpha,3)) # 모든 알파벳을 담은 list alpha를 정의하고, alpha에서 3개의 표본을 랜덤으로 뽑아서 출력한다.\n",
    "#--------------- end your code -----------------\n",
    "alphabet_6_2_9()"
   ]
  },
  {
   "cell_type": "code",
   "execution_count": null,
   "metadata": {},
   "outputs": [],
   "source": [
    "if __name__ == '__main__':\n",
    "    name_5_1_46()\n",
    "    number_6_1_31()\n",
    "    alphabet_6_2_9()"
   ]
  }
 ],
 "metadata": {
  "kernelspec": {
   "display_name": "Python 3",
   "language": "python",
   "name": "python3"
  },
  "language_info": {
   "codemirror_mode": {
    "name": "ipython",
    "version": 3
   },
   "file_extension": ".py",
   "mimetype": "text/x-python",
   "name": "python",
   "nbconvert_exporter": "python",
   "pygments_lexer": "ipython3",
   "version": "3.7.6"
  }
 },
 "nbformat": 4,
 "nbformat_minor": 4
}

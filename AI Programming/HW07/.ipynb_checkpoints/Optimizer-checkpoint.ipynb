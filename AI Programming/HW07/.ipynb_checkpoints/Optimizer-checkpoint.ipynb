{
 "cells": [
  {
   "cell_type": "code",
   "execution_count": null,
   "metadata": {},
   "outputs": [],
   "source": [
    "class HillClimbing():\n",
    "    def __init__(self):\n",
    "        self.limitStuck = 100\n",
    "    \n",
    "    def setVariables(self, aType, pType):\n",
    "    \n",
    "    def displaySetting(self):\n",
    "        if self._pType == 1:\n",
    "            print('Mutation step size:', self._delta)\n",
    "            \n",
    "        # Problem에 따라 다르기 때문에 오버라이딩 해야함\n",
    "        \n",
    "    def run(self):\n",
    "        pass\n",
    "    \n",
    "class SteepestAscent(HillClimbing):\n",
    "    def displaySetting(self):\n",
    "        \n",
    "    def run(self,p):\n",
    "        current = p.randomInit()\n",
    "        valueC = p.evaluate(current)\n",
    "        while True:\n",
    "            if valueS >= valueC\n",
    "            \n",
    "            \n",
    "        p.storeResule # 그 최종값 저장하는 함수\n",
    "        \n",
    "    def bestOf(self, neighbors, p):\n",
    "        \n",
    "        return best, bestValue\n",
    "    \n",
    "\n",
    "class FirstChoice(HillClimbing):\n",
    "    def displaySetting(self):\n",
    "        print('max evaluations with no improvement: ')\n",
    "        # LIMIT STUCK\n",
    "    \n",
    "    \n",
    "class GradientDescent(HillClimbing):\n",
    "    def displaySetting(self):\n",
    "    "
   ]
  }
 ],
 "metadata": {
  "kernelspec": {
   "display_name": "Python 3",
   "language": "python",
   "name": "python3"
  },
  "language_info": {
   "codemirror_mode": {
    "name": "ipython",
    "version": 3
   },
   "file_extension": ".py",
   "mimetype": "text/x-python",
   "name": "python",
   "nbconvert_exporter": "python",
   "pygments_lexer": "ipython3",
   "version": "3.7.6"
  }
 },
 "nbformat": 4,
 "nbformat_minor": 4
}

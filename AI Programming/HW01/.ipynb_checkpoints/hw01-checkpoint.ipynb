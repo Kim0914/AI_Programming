{
 "cells": [
  {
   "cell_type": "markdown",
   "metadata": {},
   "source": [
    "# Homework #1\n",
    "___\n",
    "\n",
    "> you should complete the answer lists \n",
    "```python\n",
    "ex2_1 = []\n",
    "ex2_2 = []\n",
    "ex2_3 = []\n",
    "``` \n",
    ">for answer."
   ]
  },
  {
   "cell_type": "code",
   "execution_count": 1,
   "metadata": {},
   "outputs": [
    {
     "name": "stdout",
     "output_type": "stream",
     "text": [
      "['blank', 'blank', 'blank']\n",
      "['blank', 'blank']\n",
      "['blank', 'blank']\n"
     ]
    }
   ],
   "source": [
    "INIT  = \"blank\" \n",
    "\n",
    "ex2_1 = [INIT]*3\n",
    "ex2_2 = [INIT]*2\n",
    "ex2_3 = [INIT]*2\n",
    "\n",
    "print(ex2_1)\n",
    "print(ex2_2)\n",
    "print(ex2_3)"
   ]
  },
  {
   "cell_type": "markdown",
   "metadata": {},
   "source": [
    "### Excercise 2.1\n",
    "> For each of the following exercises, write a program to solve the problem and display the answer. The program should use variables for <u>*each of the quantities*</u>.    "
   ]
  },
  {
   "cell_type": "markdown",
   "metadata": {},
   "source": [
    "\n",
    ">70. Projectile Motion<br><br>\n",
    ">    Suppose a ball is thrown straight up in the air with an initial velocity of 50 feet per second and an initial height of 5 feet. How high will the ball be after 3 seconds?<br><br>Note: The height after t seconds is given by the expression $h = -16t^2+v_{0}t+h_{0}$, where $v0$ is the initial velocity and $h0$ is the initial height."
   ]
  },
  {
   "cell_type": "code",
   "execution_count": 2,
   "metadata": {},
   "outputs": [],
   "source": [
    "#---------------------YOUR CODE-------------------------\n",
    "v0 = 50\n",
    "h0 = 5\n",
    "t = 3\n",
    "\n",
    "h = -16*t*t + v0*t + h0\n",
    "\n",
    "\n",
    "#---------------------YOUR CODE-------------------------\n",
    "ans = h"
   ]
  },
  {
   "cell_type": "code",
   "execution_count": 3,
   "metadata": {},
   "outputs": [
    {
     "name": "stdout",
     "output_type": "stream",
     "text": [
      "11\n"
     ]
    }
   ],
   "source": [
    "ex2_1[0] = ans\n",
    "print(ex2_1[0])"
   ]
  },
  {
   "cell_type": "markdown",
   "metadata": {},
   "source": [
    ">76. Population Increase<br><br>\n",
    ">    Population Increase You grew up in a tiny village and had to move to a nearby city for your undergraduate. When you left, the population was 845. You recently heard that the population of your village has grown by 6.5%.\n",
    ">What is the present population of the village? Round the population to the nearest whole\n",
    "number."
   ]
  },
  {
   "cell_type": "code",
   "execution_count": 4,
   "metadata": {},
   "outputs": [],
   "source": [
    "#---------------------YOUR CODE-------------------------\n",
    "init_population = 845\n",
    "present_population = init_population + (init_population * 0.065)\n",
    "#---------------------YOUR CODE-------------------------\n",
    "ans = round(present_population)"
   ]
  },
  {
   "cell_type": "code",
   "execution_count": 5,
   "metadata": {},
   "outputs": [
    {
     "name": "stdout",
     "output_type": "stream",
     "text": [
      "900\n"
     ]
    }
   ],
   "source": [
    "ex2_1[1] = ans\n",
    "print(ex2_1[1])"
   ]
  },
  {
   "cell_type": "markdown",
   "metadata": {},
   "source": [
    ">78. Calories<br><br>\n",
    ">    Estimate the number of calories in one cubic mile of chocolate ice cream. Note: There are 5,280 feet in a mile and one cubic foot of chocolate ice cream contains about 48,600 calories."
   ]
  },
  {
   "cell_type": "code",
   "execution_count": 6,
   "metadata": {},
   "outputs": [],
   "source": [
    "#---------------------YOUR CODE-------------------------\n",
    "cubic_mile = 5280 * 5280 * 5280\n",
    "cubic_per_cal = 48600\n",
    "cubic_mile_cal = cubic_mile * cubic_per_cal\n",
    "#---------------------YOUR CODE-------------------------\n",
    "ans     =  cubic_mile_cal"
   ]
  },
  {
   "cell_type": "code",
   "execution_count": 7,
   "metadata": {},
   "outputs": [
    {
     "name": "stdout",
     "output_type": "stream",
     "text": [
      "7153820467200000\n"
     ]
    }
   ],
   "source": [
    "ex2_1[2] = ans\n",
    "print(ex2_1[2])"
   ]
  },
  {
   "cell_type": "markdown",
   "metadata": {},
   "source": [
    "### Excercise 2.2\n",
    "> **Note : For each of the following exercises, a possible output is shown is shown in a shaded box. Responses to input statements appear underlined. Do not use the format method.**\n"
   ]
  },
  {
   "cell_type": "markdown",
   "metadata": {},
   "source": [
    ">108. Marketing Terms<br><br>\n",
    ">    The markup of an item is the difference between its selling price and its purchase price. Two other marketing terms are<br><br>\n",
    ">$percentage\\ markup = \\frac{markup}{purchase\\ price}\\    \\ and\\   \\ profit\\ margin = \\frac{markup}{selling\\ price}$<br><br>\n",
    "where the quotients are expressed as percentages. Write a program that computes the markup, percentage markup, and profit margin of an item. Notice that when the purchase price is tripled, the percentage markup is 200%.\n",
    "\n",
    "><pre>      [ output ]</pre>\n",
    "><pre>Enter purchase price: 215\n",
    "Enter selling price: 645\n",
    "Markup: $430.0\n",
    "Percentage markup: 200.0%\n",
    "Profit margin: 66.67%</pre>"
   ]
  },
  {
   "cell_type": "code",
   "execution_count": 8,
   "metadata": {},
   "outputs": [
    {
     "name": "stdout",
     "output_type": "stream",
     "text": [
      "Enter purchase price: 215\n",
      "Enter selling price: 645\n",
      "Markup: $430.0\n",
      "Percentage markup: 200.0%\n",
      "Profit margin: 66.67%\n"
     ]
    }
   ],
   "source": [
    "#---------------------YOUR CODE-------------------------\n",
    "purchase_price = input('Enter purchase price: ')\n",
    "selling_price = input('Enter selling price: ')\n",
    "markup = float(selling_price) - float(purchase_price)\n",
    "per_markup = markup / float(purchase_price) * 100\n",
    "pro_margin = markup / float(selling_price) * 100\n",
    "pro_margin = round(pro_margin,2)\n",
    "print('Markup: $', end = '')\n",
    "print(markup)\n",
    "print('Percentage markup:' ,per_markup, end='')\n",
    "print('%')\n",
    "print('Profit margin:' ,pro_margin, end = '')\n",
    "print('%')\n",
    "#---------------------YOUR CODE-------------------------\n",
    "\n",
    "ans = [markup, per_markup, pro_margin] # you should put the markup, percentage markup, Profit margin"
   ]
  },
  {
   "cell_type": "code",
   "execution_count": 9,
   "metadata": {
    "scrolled": true
   },
   "outputs": [
    {
     "name": "stdout",
     "output_type": "stream",
     "text": [
      "[430.0, 200.0, 66.67]\n"
     ]
    }
   ],
   "source": [
    "ex2_2[0] = ans\n",
    "print(ex2_2[0])"
   ]
  },
  {
   "cell_type": "markdown",
   "metadata": {},
   "source": [
    ">110. Word Replacement<br><br>\n",
    ">    Write a program that requests a sentence, a word in the sentence, and another word and then displays the sentence with the first word replaced by the second.\n",
    "     \n",
    "><pre>                      [ output ]</pre>\n",
    "><pre>Enter a sentence: What you don't <u>know</u> won't hurt you.\n",
    "Enter word to replace: <u>know</u>\n",
    "Enter replacement word: <u>owe</u>\n",
    "What you don't <u>owe</u> won't hurt you.\n",
    "</pre>"
   ]
  },
  {
   "cell_type": "code",
   "execution_count": 10,
   "metadata": {},
   "outputs": [
    {
     "name": "stdout",
     "output_type": "stream",
     "text": [
      "Enter a sentence: What you don't know won't hurt you.\n",
      "Enter word to replace: know\n",
      "Enter replacement word: owe\n",
      "What you don't owe won't hurt you.\n"
     ]
    }
   ],
   "source": [
    "#---------------------YOUR CODE-------------------------\n",
    "original_sentence = input('Enter a sentence: ')\n",
    "word = input('Enter word to replace: ')\n",
    "replace = input('Enter replacement word: ')\n",
    "arr = original_sentence.split()\n",
    "for i in range(0,len(arr)):\n",
    "    if(arr[i] == word):\n",
    "        arr[i] = replace\n",
    "change_sentence = ' '.join(arr)\n",
    "print(change_sentence)\n",
    "#---------------------YOUR CODE-------------------------\n",
    "\n",
    "ans = [original_sentence , word, replace, change_sentence] "
   ]
  },
  {
   "cell_type": "code",
   "execution_count": 11,
   "metadata": {
    "scrolled": true
   },
   "outputs": [
    {
     "name": "stdout",
     "output_type": "stream",
     "text": [
      "What you don't know won't hurt you.\n",
      "-> What you don't owe won't hurt you.\n"
     ]
    }
   ],
   "source": [
    "ex2_2[1] = ans\n",
    "print(f'{ex2_2[1][0]}\\n-> {ex2_2[1][-1]}')"
   ]
  },
  {
   "cell_type": "markdown",
   "metadata": {},
   "source": [
    "### Exercise 2.3\n",
    ">**For each of the following exercises, a possible output is shown in a shaded box. Responses to input statements appear underlined. The program should use the format method to display the outputs.**"
   ]
  },
  {
   "cell_type": "markdown",
   "metadata": {},
   "source": [
    ">56. Change in Salary<br><br>\n",
    ">    A common misconception is that if you receive three successive 5% pay raises, then\n",
    "your original salary will have increased by 15%. Request a salary as input and then display the salary after receiving three successive 5% pay raises. The program also should display the percentage change in salary.\n",
    "    \n",
    "><pre>        [ output ]</pre>\n",
    "><pre>Enter beginning salary: <u>35000</u>\n",
    "New salary: $40,516.88\n",
    "Change: 15.76%</pre>"
   ]
  },
  {
   "cell_type": "code",
   "execution_count": 12,
   "metadata": {},
   "outputs": [
    {
     "name": "stdout",
     "output_type": "stream",
     "text": [
      "Enter beginning salary: 35000\n",
      "New salary: $40,516.88\n",
      "Change: 15.76%\n"
     ]
    }
   ],
   "source": [
    "#---------------------YOUR CODE-------------------------\n",
    "beg_salary = input('Enter beginning salary: ')\n",
    "salary = float(beg_salary)\n",
    "for i in range(0,3):\n",
    "    salary = salary + (salary*0.05)\n",
    "change = (salary - float(beg_salary)) / float(beg_salary) * 100\n",
    "\n",
    "print('New salary: ${0:,.2f}'.format(salary))\n",
    "print('Change: ', end = '')\n",
    "print('{0:,.2f}'.format(change), end = '')\n",
    "print('%')\n",
    "\n",
    "salary = '${0:,.2f}'.format(salary)\n",
    "change = '{0:,.2f}%'.format(change)\n",
    "#---------------------YOUR CODE-------------------------\n",
    "ans = [salary, change]"
   ]
  },
  {
   "cell_type": "code",
   "execution_count": 13,
   "metadata": {},
   "outputs": [
    {
     "name": "stdout",
     "output_type": "stream",
     "text": [
      "['$40,516.88', '15.76%']\n"
     ]
    }
   ],
   "source": [
    "ex2_3[0] = ans\n",
    "print(ex2_3[0])"
   ]
  },
  {
   "cell_type": "markdown",
   "metadata": {},
   "source": [
    ">58. Present Value<br><br>\n",
    ">    The present value of f dollars at interest rate r% compounded annually for n years is the amount of money that must be invested now in order to grow to f dollars (called the future value) in n years\n",
    "where the interest rate is r% per year. The formula for present value is<br><br>\n",
    ">$present\\ value = \\frac{f}{(1+\\frac{r}{100})^n}$<br><br>\n",
    ">Calculate the present value of an investment after the user enters the future value, interest rate, and number\n",
    "of years. The following figure shows that at 4% interest per year, \\\\$7,903.15 must be invested now in order to\n",
    "have $10,000 after 6 years.\n",
    "\n",
    "><pre>       [ example ]</pre>\n",
    "><pre>Enter future value : <u>10000</u>\n",
    "Enter interest rate (as %): <u>4</u>\n",
    "Enter number of years: <u>6</u>\n",
    "Present value: $7,903.15</pre>"
   ]
  },
  {
   "cell_type": "code",
   "execution_count": 14,
   "metadata": {
    "scrolled": true
   },
   "outputs": [
    {
     "name": "stdout",
     "output_type": "stream",
     "text": [
      "Enter future value :10000\n",
      "Enter interest rate (as %): 4\n",
      "Enter number of years: 6\n",
      "Present value: $7,903.15\n"
     ]
    }
   ],
   "source": [
    "#---------------------YOUR CODE-------------------------\n",
    "get_dollar = input('Enter future value :')\n",
    "get_interest = input('Enter interest rate (as %): ')\n",
    "get_year = input('Enter number of years: ')\n",
    "\n",
    "f = float(get_dollar)\n",
    "r = float(get_interest)\n",
    "n = int(get_year)\n",
    "\n",
    "mod = 1\n",
    "\n",
    "for i in range(0,n):\n",
    "    mod = mod * (1+r/100)\n",
    "\n",
    "pre_val = f / mod\n",
    "print('Present value: ${0:,.2f}'.format(pre_val))\n",
    "pre_val = '${0:,.2f}'.format(pre_val)\n",
    "#---------------------YOUR CODE-------------------------\n",
    "ans = pre_val"
   ]
  },
  {
   "cell_type": "code",
   "execution_count": 15,
   "metadata": {},
   "outputs": [
    {
     "name": "stdout",
     "output_type": "stream",
     "text": [
      "$7,903.15\n"
     ]
    }
   ],
   "source": [
    "ex2_3[1] = ans\n",
    "print(ex2_3[1])"
   ]
  },
  {
   "cell_type": "code",
   "execution_count": 16,
   "metadata": {
    "scrolled": false
   },
   "outputs": [
    {
     "name": "stdout",
     "output_type": "stream",
     "text": [
      "ex2_1 = [11, 900, 7153820467200000]\n",
      "ex2_2 = [[430.0, 200.0, 66.67], [\"What you don't know won't hurt you.\", 'know', 'owe', \"What you don't owe won't hurt you.\"]]\n",
      "ex2_3 = [['$40,516.88', '15.76%'], '$7,903.15']\n"
     ]
    }
   ],
   "source": [
    "print(f'ex2_1 = {ex2_1}\\nex2_2 = {ex2_2}\\nex2_3 = {ex2_3}')"
   ]
  }
 ],
 "metadata": {
  "kernelspec": {
   "display_name": "Python 3",
   "language": "python",
   "name": "python3"
  },
  "language_info": {
   "codemirror_mode": {
    "name": "ipython",
    "version": 3
   },
   "file_extension": ".py",
   "mimetype": "text/x-python",
   "name": "python",
   "nbconvert_exporter": "python",
   "pygments_lexer": "ipython3",
   "version": "3.7.6"
  }
 },
 "nbformat": 4,
 "nbformat_minor": 4
}
